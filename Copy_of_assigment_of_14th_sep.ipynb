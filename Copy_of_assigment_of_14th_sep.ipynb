{
  "cells": [
    {
      "cell_type": "markdown",
      "metadata": {
        "id": "view-in-github",
        "colab_type": "text"
      },
      "source": [
        "<a href=\"https://colab.research.google.com/github/tenzinwangchuk43-debug/Tenzin-Wangchuk/blob/main/Copy_of_assigment_of_14th_sep.ipynb\" target=\"_parent\"><img src=\"https://colab.research.google.com/assets/colab-badge.svg\" alt=\"Open In Colab\"/></a>"
      ]
    },
    {
      "cell_type": "code",
      "execution_count": null,
      "metadata": {
        "id": "1GGHBAw2ebBP"
      },
      "outputs": [],
      "source": []
    },
    {
      "cell_type": "markdown",
      "metadata": {
        "id": "sRbiL--Lewdu"
      },
      "source": [
        "A Cinema give discounts based on age\n",
        "Children below 12 years pay 300\n",
        "Children below 12 - 17  years pay 500\n",
        "Children below 18 - 59  years pay 800\n",
        "Seniors (60+) pays 400"
      ]
    },
    {
      "cell_type": "code",
      "execution_count": null,
      "metadata": {
        "id": "8jE1eHNp9oz6"
      },
      "outputs": [],
      "source": [
        "# Import datetime to check the day of the week\n",
        "from datetime import datetime\n",
        "\n",
        "# Ask the user to enter their age\n",
        "age = int(input(\"Enter your age: \"))\n",
        "\n",
        "# Get today's day of the week\n",
        "today = datetime.today().strftime('%A')\n",
        "\n",
        "# Determine the base ticket price based on age\n",
        "if age < 12:\n",
        "    price = 300\n",
        "elif 12 <= age <= 17:\n",
        "    price = 500\n",
        "elif 18 <= age <= 59:\n",
        "    price = 800\n",
        "else:  # age 60+\n",
        "    price = 400\n",
        "\n",
        "# Apply Wednesday discount\n",
        "if today == \"Wednesday\":\n",
        "    price -= 100\n",
        "    print(\"It's Wednesday! You get 100 off.\")\n",
        "\n",
        "# Print the final ticket price\n",
        "print(f\"Your ticket price is: {price}\")"
      ]
    },
    {
      "cell_type": "markdown",
      "metadata": {
        "id": "WThLeDpiO3A0"
      },
      "source": [
        "Assignment Number Guessing Game. write a python programthat: 1. pocks a\n",
        "\n",
        "*   List item\n",
        "*   List item\n",
        "\n",
        "secret number eg 7. 2. ask the user to guiess the number. 3. keep asking until the user guese correctly . (using a whith loop) 4 print Conguratulation! You guessed correctly when correct"
      ]
    },
    {
      "cell_type": "code",
      "execution_count": null,
      "metadata": {
        "id": "nTvDrQfuG7uw"
      },
      "outputs": [],
      "source": []
    },
    {
      "cell_type": "code",
      "execution_count": null,
      "metadata": {
        "colab": {
          "background_save": true,
          "base_uri": "https://localhost:8080/"
        },
        "id": "jUXTAsoGQTwr",
        "outputId": "8267a461-cd92-4704-a27b-39444646c4aa"
      },
      "outputs": [
        {
          "name": "stdout",
          "output_type": "stream",
          "text": [
            "Welcome to the Number Guessing Game!\n",
            "Guess the secret number between 1 and 10.\n"
          ]
        }
      ],
      "source": [
        "# 1. Pick a secret number\n",
        "secret_number = 7\n",
        "\n",
        "print(\"Welcome to the Number Guessing Game!\")\n",
        "print(\"Guess the secret number between 1 and 10.\")\n",
        "\n",
        "# 2. Ask the user to guess the number\n",
        "guess = int(input(\"Enter your guess: \"))\n",
        "\n",
        "# 3. Keep asking until the guess is correct\n",
        "while guess != secret_number:\n",
        "    if guess < secret_number:\n",
        "        print(\"Too low! Try again.\")\n",
        "    else:\n",
        "        print(\"Too high! Try again.\")\n",
        "    guess = int(input(\"Enter your guess: \"))\n",
        "\n",
        "# 4. Print congratulation message\n",
        "print(\" Congratulations! You guessed correctly.\")"
      ]
    },
    {
      "cell_type": "code",
      "execution_count": null,
      "metadata": {
        "id": "o8owekyxQTjR"
      },
      "outputs": [],
      "source": []
    },
    {
      "cell_type": "markdown",
      "metadata": {
        "id": "rb5mmKvaHb8E"
      },
      "source": []
    },
    {
      "cell_type": "markdown",
      "metadata": {
        "id": "NOdLPNH2UZzu"
      },
      "source": [
        "Assigment 3:\n",
        " Go and research and practice how to use these in functions\n",
        " 1.keyward arguments\n",
        " 2. Variable Number of Arguments\n",
        " 3. *args and **kwargs"
      ]
    },
    {
      "cell_type": "code",
      "execution_count": null,
      "metadata": {
        "id": "Jl8j21e2YANs",
        "colab": {
          "base_uri": "https://localhost:8080/"
        },
        "outputId": "ca62a56b-5919-4049-ce32-87f82225fac6"
      },
      "outputs": [
        {
          "output_type": "stream",
          "name": "stdout",
          "text": [
            "My name is Tenzin and I am 31 years old.\n"
          ]
        }
      ],
      "source": [
        "def introduce(name, age):\n",
        "    print(f\"My name is {name} and I am {age} years old.\")\n",
        "\n",
        "# Using keyword arguments\n",
        "introduce(age=31, name=\"Tenzin\")"
      ]
    },
    {
      "cell_type": "markdown",
      "metadata": {
        "id": "wmn2SqIpYZnT"
      },
      "source": [
        "Assigment 4\n",
        "write a python program that will:\n",
        "1. Define a function call Calculate_grade(marks) that:\n",
        " takes marks(0-100) as input\n",
        " Returns the grade based on this Scale\n",
        " 90-100--> A\n",
        " 80-89-->B\n",
        " 70-79-->C\n",
        " 60-69-->C\n",
        " BELOW 60--> FAILES\n",
        " Ask the user to enter their marks\n",
        " Call the function and print your grade Is: X\n"
      ]
    },
    {
      "cell_type": "code",
      "execution_count": null,
      "metadata": {
        "id": "mr6tvE9aaGRF"
      },
      "outputs": [],
      "source": [
        "def calculate_grade(marks):\n",
        "    if 90 <= marks <= 100:\n",
        "        return \"A\"\n",
        "    elif 80 <= marks <= 89:\n",
        "        return \"B\"\n",
        "    elif 70 <= marks <= 79:\n",
        "        return \"C\"\n",
        "    elif 60 <= marks <= 69:\n",
        "        return \"D\"\n",
        "    else:\n",
        "        return \"FAIL\"\n",
        "\n",
        "# Ask user for marks\n",
        "marks = int(input(\"Enter your marks (0-100): \"))\n",
        "grade = calculate_grade(marks)\n",
        "print(\"Your grade is:\", grade)"
      ]
    },
    {
      "cell_type": "markdown",
      "metadata": {
        "id": "X8A57qkVYWED"
      },
      "source": []
    }
  ],
  "metadata": {
    "colab": {
      "provenance": [],
      "authorship_tag": "ABX9TyPeUHttbEpeDypokD0WMg96",
      "include_colab_link": true
    },
    "kernelspec": {
      "display_name": "Python 3",
      "name": "python3"
    },
    "language_info": {
      "name": "python"
    }
  },
  "nbformat": 4,
  "nbformat_minor": 0
}